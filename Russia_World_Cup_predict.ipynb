{
 "cells": [
  {
   "cell_type": "code",
   "execution_count": null,
   "metadata": {},
   "outputs": [],
   "source": [
    "import keras\n",
    "from keras.models import Sequential\n",
    "from keras.layers import Conv2D, MaxPooling2D, Dense, Flatten, Dropout\n",
    "from keras.optimizers import Adam\n",
    "from keras.callbacks import TensorBoard\n",
    "import numpy as np\n",
    "import pandas as pd"
   ]
  },
  {
   "cell_type": "code",
   "execution_count": null,
   "metadata": {},
   "outputs": [],
   "source": [
    "# Open the file with the historical data \n",
    "dataset_path = 'data/def'\n",
    "overview = pd.read_csv(dataset_path + \"/results_def.csv\")\n",
    "# Create two arrays, features and labels (in this case there is only one label)\n",
    "features = overview[[\"home_team_id\",\"away_team_id\",\"recent\",\"home_team_fitness\",\"away_team_fitness\",\"home_team_level\",\"away_team_level\",\"championship_importance\",\"home_team_fifa_ranking\",\"away_team_fifa_ranking\",\"neutral\"]]\n",
    "#divide by 1\n",
    "label = overview[[\"result\"]]\n",
    "x_train = features.as_matrix()\n",
    "y_train = label.as_matrix()"
   ]
  },
  {
   "cell_type": "code",
   "execution_count": null,
   "metadata": {},
   "outputs": [],
   "source": [
    "# Define the model. In this case it is a NN\n",
    "im_shape = (11,)\n",
    "nn_model = Sequential([\n",
    "    Dense(11, input_shape=im_shape),\n",
    "    Dropout(0.1),\n",
    "    Dense(128, activation='sigmoid'),\n",
    "    Dense(128, activation='sigmoid'),\n",
    "    Dense(1, activation='sigmoid')\n",
    "])"
   ]
  },
  {
   "cell_type": "code",
   "execution_count": null,
   "metadata": {},
   "outputs": [],
   "source": [
    "nn_model.compile(\n",
    "    loss='mean_squared_error',\n",
    "    optimizer=Adam(lr=0.009),\n",
    "    metrics=['accuracy']\n",
    ")"
   ]
  },
  {
   "cell_type": "code",
   "execution_count": null,
   "metadata": {},
   "outputs": [],
   "source": [
    "# Train the model with the historical data\n",
    "nn_model.fit(\n",
    "    x_train, y_train, batch_size=10,\n",
    "    epochs=5\n",
    ")"
   ]
  },
  {
   "cell_type": "code",
   "execution_count": null,
   "metadata": {},
   "outputs": [],
   "source": [
    "#At this point be sure you have the file \"group_phase.csv\" correctly located.\n",
    "#It should contain the matches for the Group Phase "
   ]
  },
  {
   "cell_type": "code",
   "execution_count": null,
   "metadata": {},
   "outputs": [],
   "source": [
    "group_phase = pd.read_csv(dataset_path + \"/group_phase.csv\")\n",
    "features2 = group_phase[[\"home_team_id\",\"away_team_id\",\"recent\",\"home_team_fitness\",\"away_team_fitness\",\"home_team_level\",\"away_team_level\",\"championship_importance\",\"home_team_fifa_ranking\",\"away_team_fifa_ranking\",\"neutral\"]]\n",
    "features2.loc[:,\"recent\"] = 0.7\n",
    "label2 = group_phase[[\"result\"]]\n",
    "\n",
    "features_array2 = features2.as_matrix()\n",
    "\n",
    "i = 0\n",
    "for x in features_array2:\n",
    "    x = x.reshape((1,11))\n",
    "    score = nn_model.predict(x)\n",
    "    if score[0] < 0.4:\n",
    "        label2.loc[i,\"result\"] = 0\n",
    "    elif score[0] > 0.6:\n",
    "        label2.loc[i,\"result\"] = 1\n",
    "    else:\n",
    "        label2.loc[i,\"result\"] = 0.5\n",
    "    i = i + 1\n",
    "\n",
    "group_phase = pd.concat([group_phase[[\"group\",\"home_team\",\"away_team\"]],features2, label2], axis=1)\n",
    "group_phase.to_csv(path_or_buf=dataset_path + \"/group_phase_results.csv\")\n",
    "\n",
    "# Train again with the new results\n",
    "x_train = np.concatenate([features.as_matrix(),features2.as_matrix()])\n",
    "y_train = np.concatenate([label.as_matrix(),label2.as_matrix()])\n",
    "\n",
    "nn_model.fit(\n",
    "    x_train, y_train, batch_size=10,\n",
    "    epochs=5\n",
    ")"
   ]
  },
  {
   "cell_type": "code",
   "execution_count": null,
   "metadata": {},
   "outputs": [],
   "source": [
    "#At this point be sure you have the file \"8ths.csv\" correctly located.\n",
    "#It should contain the matches for the 8th finals "
   ]
  },
  {
   "cell_type": "code",
   "execution_count": null,
   "metadata": {},
   "outputs": [],
   "source": [
    "eight_phase = pd.read_csv(dataset_path + \"/8ths.csv\")\n",
    "features3 = eight_phase[[\"home_team_id\",\"away_team_id\",\"recent\",\"home_team_fitness\",\"away_team_fitness\",\"home_team_level\",\"away_team_level\",\"championship_importance\",\"home_team_fifa_ranking\",\"away_team_fifa_ranking\",\"neutral\"]]\n",
    "features3.loc[:,\"recent\"] = 0.8\n",
    "label3 = eight_phase[[\"result\"]]\n",
    "\n",
    "features_array3 = features3.as_matrix()\n",
    "\n",
    "i = 0\n",
    "for x in features_array3:\n",
    "    x = x.reshape((1,11))\n",
    "    score = nn_model.predict(x)\n",
    "    if score[0] <= 0.5:\n",
    "        label3.loc[i,\"result\"] = 0\n",
    "    else:\n",
    "        label3.loc[i,\"result\"] = 1\n",
    "    i = i + 1\n",
    "\n",
    "eight_phase = pd.concat([eight_phase[[\"group\",\"home_team\",\"away_team\"]],features3, label3], axis=1)\n",
    "eight_phase.to_csv(path_or_buf=dataset_path + \"/8ths_results.csv\")\n",
    "\n",
    "# Train again with the new results\n",
    "x_train = np.concatenate([features.as_matrix(),features2.as_matrix(),features3.as_matrix()])\n",
    "y_train = np.concatenate([label.as_matrix(),label2.as_matrix(),label3.as_matrix()])\n",
    "\n",
    "nn_model.fit(\n",
    "    x_train, y_train, batch_size=10,\n",
    "    epochs=5\n",
    ")"
   ]
  },
  {
   "cell_type": "code",
   "execution_count": null,
   "metadata": {},
   "outputs": [],
   "source": [
    "#At this point be sure you have the file \"4ths.csv\" correctly located.\n",
    "#It should contain the matches for the 4th finals"
   ]
  },
  {
   "cell_type": "code",
   "execution_count": null,
   "metadata": {},
   "outputs": [],
   "source": [
    "fourth_phase = pd.read_csv(dataset_path + \"/4ths.csv\")\n",
    "features4 = fourth_phase[[\"home_team_id\",\"away_team_id\",\"recent\",\"home_team_fitness\",\"away_team_fitness\",\"home_team_level\",\"away_team_level\",\"championship_importance\",\"home_team_fifa_ranking\",\"away_team_fifa_ranking\",\"neutral\"]]\n",
    "features4.loc[:,\"recent\"] = 0.9\n",
    "label4 = fourth_phase[[\"result\"]]\n",
    "\n",
    "features_array4 = features4.as_matrix()\n",
    "\n",
    "i = 0\n",
    "for x in features_array4:\n",
    "    x = x.reshape((1,11))\n",
    "    score = nn_model.predict(x)\n",
    "    if score[0] < 0.5:\n",
    "        label4.loc[i,\"result\"] = 0\n",
    "    else:\n",
    "        label4.loc[i,\"result\"] = 1\n",
    "    i = i + 1\n",
    "\n",
    "fourth_phase = pd.concat([fourth_phase[[\"group\",\"home_team\",\"away_team\"]],features4, label4], axis=1)\n",
    "fourth_phase.to_csv(path_or_buf=dataset_path + \"/4ths_results.csv\")\n",
    "\n",
    "# Train again with the new results\n",
    "x_train = np.concatenate([features.as_matrix(),features2.as_matrix(),features3.as_matrix(),features4.as_matrix()])\n",
    "y_train = np.concatenate([label.as_matrix(),label2.as_matrix(),label3.as_matrix(),label4.as_matrix()])\n",
    "\n",
    "nn_model.fit(\n",
    "    x_train, y_train, batch_size=10,\n",
    "    epochs=5\n",
    ")"
   ]
  },
  {
   "cell_type": "code",
   "execution_count": null,
   "metadata": {},
   "outputs": [],
   "source": [
    "#At this point be sure you have the file \"semis.csv\" correctly located.\n",
    "#It should contain the matches for the semi finals"
   ]
  },
  {
   "cell_type": "code",
   "execution_count": null,
   "metadata": {},
   "outputs": [],
   "source": [
    "semis_phase = pd.read_csv(dataset_path + \"/semis.csv\")\n",
    "features5 = semis_phase[[\"home_team_id\",\"away_team_id\",\"recent\",\"home_team_fitness\",\"away_team_fitness\",\"home_team_level\",\"away_team_level\",\"championship_importance\",\"home_team_fifa_ranking\",\"away_team_fifa_ranking\",\"neutral\"]]\n",
    "features5.loc[:,\"recent\"] = 1\n",
    "label5 = semis_phase[[\"result\"]]\n",
    "\n",
    "features_array5= features5.as_matrix()\n",
    "\n",
    "i = 0\n",
    "for x in features_array5:\n",
    "    x = x.reshape((1,11))\n",
    "    score = nn_model.predict(x)\n",
    "    if score[0] < 0.5:\n",
    "        label5.loc[i,\"result\"] = 0\n",
    "    else:\n",
    "        label5.loc[i,\"result\"] = 1\n",
    "    i = i + 1\n",
    "\n",
    "semis_phase = pd.concat([semis_phase[[\"group\",\"home_team\",\"away_team\"]],features5, label5], axis=1)\n",
    "semis_phase.to_csv(path_or_buf=dataset_path + \"/semis_results.csv\")\n",
    "\n",
    "# Train again with the new results\n",
    "x_train = np.concatenate([features.as_matrix(),features2.as_matrix(),features3.as_matrix(),features4.as_matrix(),features5.as_matrix()])\n",
    "y_train = np.concatenate([label.as_matrix(),label2.as_matrix(),label3.as_matrix(),label4.as_matrix(),label5.as_matrix()])\n",
    "\n",
    "nn_model.fit(\n",
    "    x_train, y_train, batch_size=10,\n",
    "    epochs=5\n",
    ")"
   ]
  },
  {
   "cell_type": "code",
   "execution_count": null,
   "metadata": {},
   "outputs": [],
   "source": [
    "#At this point be sure you have the file \"final.csv\" correctly located.\n",
    "#It should contain the matches for the great final "
   ]
  },
  {
   "cell_type": "code",
   "execution_count": null,
   "metadata": {},
   "outputs": [],
   "source": [
    "final_phase = pd.read_csv(dataset_path + \"/final.csv\")\n",
    "features6 = final_phase[[\"home_team_id\",\"away_team_id\",\"recent\",\"home_team_fitness\",\"away_team_fitness\",\"home_team_level\",\"away_team_level\",\"championship_importance\",\"home_team_fifa_ranking\",\"away_team_fifa_ranking\",\"neutral\"]]\n",
    "features6.loc[:,\"recent\"] = 1\n",
    "label6 = final_phase[[\"result\"]]\n",
    "\n",
    "features_array6= features6.as_matrix()\n",
    "\n",
    "i = 0\n",
    "for x in features_array6:\n",
    "    x = x.reshape((1,11))\n",
    "    score = nn_model.predict(x)\n",
    "    if score[0] < 0.5: \n",
    "        label6.loc[i,\"result\"] = 0\n",
    "    else:\n",
    "        label6.loc[i,\"result\"] = 1\n",
    "    i = i + 1\n",
    "\n",
    "final_phase = pd.concat([final_phase[[\"group\",\"home_team\",\"away_team\"]],features6, label6], axis=1)\n",
    "final_phase.to_csv(path_or_buf=dataset_path + \"/final_results.csv\")"
   ]
  },
  {
   "cell_type": "code",
   "execution_count": null,
   "metadata": {},
   "outputs": [],
   "source": []
  }
 ],
 "metadata": {
  "kernelspec": {
   "display_name": "Python 3",
   "language": "python",
   "name": "python3"
  },
  "language_info": {
   "codemirror_mode": {
    "name": "ipython",
    "version": 3
   },
   "file_extension": ".py",
   "mimetype": "text/x-python",
   "name": "python",
   "nbconvert_exporter": "python",
   "pygments_lexer": "ipython3",
   "version": "3.6.3"
  }
 },
 "nbformat": 4,
 "nbformat_minor": 2
}
